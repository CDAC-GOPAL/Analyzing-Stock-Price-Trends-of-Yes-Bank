{
 "cells": [
  {
   "cell_type": "code",
   "execution_count": null,
   "metadata": {
    "id": "I1apcow5dxii"
   },
   "outputs": [],
   "source": []
  },
  {
   "cell_type": "markdown",
   "metadata": {
    "id": "vncDsAP0Gaoa"
   },
   "source": [
    "# **Project Name**    -Analyzing Stock Price Trends of Yes Bank\n",
    "\n"
   ]
  },
  {
   "cell_type": "markdown",
   "metadata": {
    "id": "beRrZCGUAJYm"
   },
   "source": [
    "##### **Project Type**    - EDA/Regression/Classification/Unsupervised\n",
    "##### **Contribution**    - Individual\n",
    "##### **Team Member 1 - Gopal Pardeshi"
   ]
  },
  {
   "cell_type": "markdown",
   "metadata": {
    "id": "FJNUwmbgGyua"
   },
   "source": [
    "# **Project Summary -**"
   ]
  },
  {
   "cell_type": "markdown",
   "metadata": {
    "id": "F6v_1wHtG2nS"
   },
   "source": [
    "This project focuses on performing Exploratory Data Analysis (EDA) and Regression on the stock prices of Yes Bank, spanning from July 2005 to November 2020. The primary objective is to uncover significant trends, patterns, and insights that can be valuable to investors. By utilizing various data wrangling, visualization, and modeling techniques, we aim to understand the factors that influence stock prices and identify potential opportunities and risks for better investment decision-making.\n",
    "\n",
    "Data and Methodology\n",
    "\n",
    "The dataset comprises monthly stock prices for Yes Bank, including the date, open price, high price, low price, and close price. The analysis begins with loading and cleaning the dataset, which includes handling missing values, removing duplicate entries, converting data types, and standardizing numerical features. We ensure that the data is prepared adequately for analysis by addressing these initial steps.\n",
    "\n",
    "We then proceed with Exploratory Data Analysis (EDA) to gain insights into the data. EDA includes:\n",
    "\n",
    "Univariate Analysis: Examining the distribution and central tendencies of individual variables to understand their characteristics.\n",
    "\n",
    "Bivariate Analysis: Analyzing the relationship between pairs of variables, such as the correlation between open and close prices or high and low prices.\n",
    "\n",
    "Multivariate Analysis: Investigating the interaction between multiple variables to uncover complex patterns and relationships.\n",
    "\n",
    "Insights from Data Analysis\n",
    "\n",
    "During the analysis, several critical insights are uncovered:\n",
    "\n",
    "Stock Price Volatility: The data shows high volatility, indicated by scattered points in the plots, suggesting that external market factors heavily impact the stock prices. This volatility means that sudden price jumps or crashes could be due to news events, company performance reports, or broader market trends.\n",
    "\n",
    "Outliers and Anomalies: Certain data points lie far from the main trend, representing sudden price changes. These anomalies provide valuable information about external influences on stock prices.\n",
    "\n",
    "Price Distribution: The distribution of stock prices helps determine whether the stock tends to stay within a predictable range or experiences sudden shifts. A normal distribution suggests stability, while a skewed distribution indicates external economic or business changes.\n",
    "\n",
    "Business Objective and Recommendations\n",
    "\n",
    "Based on the analysis, the following key recommendations are made to achieve the business objective:\n",
    "\n",
    "Predictive Analytics for Stock Price Forecasting: Implementing machine learning models such as ARIMA, LSTM, or Random Forest Regressor can help predict future stock prices based on historical trends. This will enable traders to make informed decisions and mitigate risks.\n",
    "\n",
    "Monitoring Stock Volatility and Risk Management: Applying volatility analysis techniques like Bollinger Bands and Moving Averages can help track stock fluctuations. Implementing stop-loss strategies during high-risk periods can reduce investment risks and increase profitability.\n",
    "\n",
    "Identifying Market Anomalies and External Influences: Using sentiment analysis on news articles and social media can detect external events affecting stock prices. Monitoring government policies, RBI regulations, and banking sector trends will help investors prepare for sudden stock fluctuations and avoid potential losses.\n",
    "\n",
    "Optimizing Investment Strategies: Depending on the stock's volatility, different investment strategies can be employed. For low volatility stocks, long-term investing is preferable, while high volatility stocks require short-term trading strategies like Swing Trading or Scalping.\n",
    "\n",
    "Building a Stock Trading Dashboard: Developing an interactive dashboard using Python or Power BI can display real-time stock trends, track historical patterns, provide predictive insights, and alert users for buy/sell recommendations."
   ]
  },
  {
   "cell_type": "markdown",
   "metadata": {
    "id": "w6K7xa23Elo4"
   },
   "source": [
    "# **GitHub Link -** https://github.com/VishankAgrohi/Analyzing-Stock-Price-Trends-of-Yes-Bank"
   ]
  },
  {
   "cell_type": "markdown",
   "metadata": {
    "id": "h1o69JH3Eqqn"
   },
   "source": [
    "Provide your GitHub Link here."
   ]
  },
  {
   "cell_type": "markdown",
   "metadata": {
    "id": "yQaldy8SH6Dl"
   },
   "source": [
    "# **Problem Statement**\n"
   ]
  },
  {
   "cell_type": "markdown",
   "metadata": {
    "id": "DpeJGUA3kjGy"
   },
   "source": [
    "The stock market is highly dynamic and influenced by a myriad of factors, both internal and external. Understanding the trends and patterns in stock prices can help investors make informed decisions and optimize their investment strategies. This project aims to analyze the stock price data of Yes Bank to identify significant trends and patterns that can provide valuable insights for investors."
   ]
  },
  {
   "cell_type": "markdown",
   "metadata": {
    "id": "PH-0ReGfmX4f"
   },
   "source": [
    "#### **Define Your Business Objective?**"
   ]
  },
  {
   "cell_type": "markdown",
   "metadata": {
    "id": "PhDvGCAqmjP1"
   },
   "source": [
    "Answer To provide a detailed analysis of Yes Bank stock prices, identifying key trends, patterns, and potential influencing factors. The goal is to equip investors with actionable insights that can help them make informed investment decisions and optimize their portfolios."
   ]
  },
  {
   "cell_type": "markdown",
   "metadata": {
    "id": "mDgbUHAGgjLW"
   },
   "source": [
    "# **General Guidelines** : -  "
   ]
  },
  {
   "cell_type": "markdown",
   "metadata": {
    "id": "ZrxVaUj-hHfC"
   },
   "source": [
    "1.   Well-structured, formatted, and commented code is required.\n",
    "2.   Exception Handling, Production Grade Code & Deployment Ready Code will be a plus. Those students will be awarded some additional credits.\n",
    "     \n",
    "     The additional credits will have advantages over other students during Star Student selection.\n",
    "       \n",
    "             [ Note: - Deployment Ready Code is defined as, the whole .ipynb notebook should be executable in one go\n",
    "                       without a single error logged. ]\n",
    "\n",
    "3.   Each and every logic should have proper comments.\n",
    "4. You may add as many number of charts you want. Make Sure for each and every chart the following format should be answered.\n",
    "        \n",
    "\n",
    "```\n",
    "# Chart visualization code\n",
    "```\n",
    "            \n",
    "\n",
    "*   Why did you pick the specific chart?\n",
    "*   What is/are the insight(s) found from the chart?\n",
    "* Will the gained insights help creating a positive business impact?\n",
    "Are there any insights that lead to negative growth? Justify with specific reason.\n",
    "\n",
    "5. You have to create at least 20 logical & meaningful charts having important insights.\n",
    "\n",
    "\n",
    "[ Hints : - Do the Vizualization in  a structured way while following \"UBM\" Rule.\n",
    "\n",
    "U - Univariate Analysis,\n",
    "\n",
    "B - Bivariate Analysis (Numerical - Categorical, Numerical - Numerical, Categorical - Categorical)\n",
    "\n",
    "M - Multivariate Analysis\n",
    " ]\n",
    "\n",
    "\n",
    "\n"
   ]
  },
  {
   "cell_type": "markdown",
   "metadata": {
    "id": "O_i_v8NEhb9l"
   },
   "source": [
    "# ***Let's Begin !***"
   ]
  },
  {
   "cell_type": "markdown",
   "metadata": {
    "id": "HhfV-JJviCcP"
   },
   "source": [
    "## ***1. Know Your Data***"
   ]
  },
  {
   "cell_type": "markdown",
   "metadata": {
    "id": "Y3lxredqlCYt"
   },
   "source": [
    "### Import Libraries"
   ]
  },
  {
   "cell_type": "code",
   "execution_count": null,
   "metadata": {
    "id": "M8Vqi-pPk-HR"
   },
   "outputs": [],
   "source": [
    "# Import Libraries\n",
    "import numpy as np\n",
    "import pandas as pd\n",
    "import matplotlib.pyplot as plt\n",
    "import seaborn as sns"
   ]
  },
  {
   "cell_type": "markdown",
   "metadata": {
    "id": "3RnN4peoiCZX"
   },
   "source": [
    "### Dataset Loading"
   ]
  },
  {
   "cell_type": "code",
   "execution_count": null,
   "metadata": {
    "id": "4CkvbW_SlZ_R"
   },
   "outputs": [],
   "source": [
    "# Load Dataset\n",
    "dataset = pd.read_csv('/content/data_YesBank_StockPrices.csv')"
   ]
  },
  {
   "cell_type": "markdown",
   "metadata": {
    "id": "x71ZqKXriCWQ"
   },
   "source": [
    "### Dataset First View"
   ]
  },
  {
   "cell_type": "code",
   "execution_count": null,
   "metadata": {
    "id": "LWNFOSvLl09H"
   },
   "outputs": [],
   "source": [
    "# Dataset First Look\n",
    "dataset.head()"
   ]
  },
  {
   "cell_type": "code",
   "execution_count": null,
   "metadata": {
    "id": "6og21e9rXVNq"
   },
   "outputs": [],
   "source": [
    "dataset.head(10)"
   ]
  },
  {
   "cell_type": "markdown",
   "metadata": {
    "id": "7hBIi_osiCS2"
   },
   "source": [
    "### Dataset Rows & Columns count"
   ]
  },
  {
   "cell_type": "code",
   "execution_count": null,
   "metadata": {
    "id": "Kllu7SJgmLij"
   },
   "outputs": [],
   "source": [
    "# Dataset Rows & Columns count\n",
    "dataset.shape"
   ]
  },
  {
   "cell_type": "markdown",
   "metadata": {
    "id": "JlHwYmJAmNHm"
   },
   "source": [
    "### Dataset Information"
   ]
  },
  {
   "cell_type": "code",
   "execution_count": null,
   "metadata": {
    "id": "e9hRXRi6meOf"
   },
   "outputs": [],
   "source": [
    "# Dataset Info\n",
    "dataset.info()"
   ]
  },
  {
   "cell_type": "markdown",
   "metadata": {
    "id": "35m5QtbWiB9F"
   },
   "source": [
    "#### Duplicate Values"
   ]
  },
  {
   "cell_type": "code",
   "execution_count": null,
   "metadata": {
    "id": "1sLdpKYkmox0"
   },
   "outputs": [],
   "source": [
    "# Dataset Duplicate Value Count\n",
    "dataset.duplicated().sum()"
   ]
  },
  {
   "cell_type": "markdown",
   "metadata": {
    "id": "PoPl-ycgm1ru"
   },
   "source": [
    "#### Missing Values/Null Values"
   ]
  },
  {
   "cell_type": "code",
   "execution_count": null,
   "metadata": {
    "id": "GgHWkxvamxVg"
   },
   "outputs": [],
   "source": [
    "# Missing Values/Null Values Count\n",
    "dataset.isnull().sum()"
   ]
  },
  {
   "cell_type": "code",
   "execution_count": null,
   "metadata": {
    "id": "3q5wnI3om9sJ"
   },
   "outputs": [],
   "source": [
    "# Visualizing the missing values\n",
    "sns.heatmap(dataset.isnull(), cbar=False)\n"
   ]
  },
  {
   "cell_type": "markdown",
   "metadata": {
    "id": "H0kj-8xxnORC"
   },
   "source": [
    "### What did you know about your dataset?"
   ]
  },
  {
   "cell_type": "markdown",
   "metadata": {
    "id": "gfoNAAC-nUe_"
   },
   "source": [
    "Answer\n",
    "\n",
    "The dataset includes monthly stock prices from July 2005 to November 2020.\n",
    "\n",
    "It contains 5 columns: Date, Open, High, Low, Close.\n",
    "\n",
    "There are no missing values or duplicate rows"
   ]
  },
  {
   "cell_type": "markdown",
   "metadata": {
    "id": "nA9Y7ga8ng1Z"
   },
   "source": [
    "## ***2. Understanding Your Variables***"
   ]
  },
  {
   "cell_type": "code",
   "execution_count": null,
   "metadata": {
    "id": "j7xfkqrt5Ag5"
   },
   "outputs": [],
   "source": [
    "# Dataset Columns\n",
    "dataset.columns\n"
   ]
  },
  {
   "cell_type": "code",
   "execution_count": null,
   "metadata": {
    "id": "DnOaZdaE5Q5t"
   },
   "outputs": [],
   "source": [
    "# Dataset Describe\n",
    "dataset.describe()"
   ]
  },
  {
   "cell_type": "markdown",
   "metadata": {
    "id": "PBTbrJXOngz2"
   },
   "source": [
    "### Variables Description"
   ]
  },
  {
   "cell_type": "markdown",
   "metadata": {
    "id": "aJV4KIxSnxay"
   },
   "source": [
    "Answer\n",
    "\n",
    " Date: The month and year of the recorded stock prices.\n",
    "\n",
    "Open: The opening stock price for the month.\n",
    "\n",
    "High: The highest stock price during the month.\n",
    "\n",
    "Low: The lowest stock price during the month.\n",
    "\n",
    "Close: The closing stock price for the month."
   ]
  },
  {
   "cell_type": "markdown",
   "metadata": {
    "id": "u3PMJOP6ngxN"
   },
   "source": [
    "### Check Unique Values for each variable."
   ]
  },
  {
   "cell_type": "code",
   "execution_count": null,
   "metadata": {
    "id": "zms12Yq5n-jE"
   },
   "outputs": [],
   "source": [
    "# Check Unique Values for each variable.\n",
    "dataset.nunique()\n"
   ]
  },
  {
   "cell_type": "markdown",
   "metadata": {
    "id": "dauF4eBmngu3"
   },
   "source": [
    "## 3. ***Data Wrangling***"
   ]
  },
  {
   "cell_type": "markdown",
   "metadata": {
    "id": "bKJF3rekwFvQ"
   },
   "source": [
    "### Data Wrangling Code"
   ]
  },
  {
   "cell_type": "code",
   "execution_count": null,
   "metadata": {
    "id": "wk-9a2fpoLcV"
   },
   "outputs": [],
   "source": [
    "# Write your code to make your dataset analysis ready.\n",
    "import pandas as pd\n",
    "import numpy as np\n",
    "from sklearn.preprocessing import StandardScaler, LabelEncoder\n",
    "\n",
    "# Load dataset\n",
    "df = pd.read_csv(\"/content/data_YesBank_StockPrices.csv\")  # Replace with your dataset path\n",
    "\n",
    "# 🔹 1. Basic Info and Initial Checks\n",
    "print(\" Dataset Overview:\")\n",
    "print(df.info())  # Check data types & missing values\n",
    "print(\"\\n Missing Values:\\n\", df.isnull().sum())  # Count missing values\n",
    "print(\"\\n Duplicate Rows: \", df.duplicated().sum())  # Count duplicate rows\n",
    "\n",
    "# Remove Duplicates\n",
    "df.drop_duplicates(inplace=True)\n",
    "\n",
    "# 🔹 2. Handling Missing Values\n",
    "# Fill numerical missing values with median\n",
    "df.fillna(df.median(numeric_only=True), inplace=True)\n",
    "\n",
    "# Fill categorical missing values with mode\n",
    "categorical_cols = df.select_dtypes(include=['object']).columns\n",
    "for col in categorical_cols:\n",
    "    df[col].fillna(df[col].mode()[0], inplace=True)\n",
    "\n",
    "# 🔹 3. Data Type Conversion\n",
    "# Convert dates to datetime format\n",
    "if 'date_column' in df.columns:\n",
    "    df['date_column'] = pd.to_datetime(df['date_column'], errors='coerce')\n",
    "\n",
    "# Convert categorical columns to category type\n",
    "for col in categorical_cols:\n",
    "    df[col] = df[col].astype('category')\n",
    "\n",
    "# 🔹 4. Outlier Detection & Handling (IQR Method)\n",
    "numeric_cols = df.select_dtypes(include=['number']).columns\n",
    "Q1 = df[numeric_cols].quantile(0.25)\n",
    "Q3 = df[numeric_cols].quantile(0.75)\n",
    "IQR = Q3 - Q1\n",
    "df = df[~((df[numeric_cols] < (Q1 - 1.5 * IQR)) | (df[numeric_cols] > (Q3 + 1.5 * IQR))).any(axis=1)]\n",
    "\n",
    "# 🔹 5. Encoding Categorical Variables\n",
    "# Label Encoding for binary categorical columns\n",
    "label_encoder = LabelEncoder()\n",
    "for col in categorical_cols:\n",
    "    if df[col].nunique() == 2:\n",
    "        df[col] = label_encoder.fit_transform(df[col])\n",
    "\n",
    "# One-Hot Encoding for categorical variables with more than two categories\n",
    "df = pd.get_dummies(df, drop_first=True)\n",
    "\n",
    "# 🔹 6. Feature Scaling (Standardization)\n",
    "scaler = StandardScaler()\n",
    "df[numeric_cols] = scaler.fit_transform(df[numeric_cols])\n",
    "\n",
    "# 🔹 7. Save Cleaned Dataset\n",
    "df.to_csv(\"cleaned_dataset.csv\", index=False)\n",
    "\n",
    "print(\"\\n Data Wrangling Complete! Cleaned dataset saved.\")\n"
   ]
  },
  {
   "cell_type": "markdown",
   "metadata": {
    "id": "MSa1f5Uengrz"
   },
   "source": [
    "### What all manipulations have you done and insights you found?"
   ]
  },
  {
   "cell_type": "markdown",
   "metadata": {
    "id": "LbyXE7I1olp8"
   },
   "source": [
    "Answer Manipulations Done\n",
    "\n",
    "Checked Missing Values & Filled Them:\n",
    "\n",
    "Numerical: Replaced with median.\n",
    "\n",
    "Categorical: Replaced with mode.\n",
    "\n",
    "Removed Duplicates: Ensured unique records.\n",
    "\n",
    "Converted Data Types:\n",
    "Converted dates to datetime.\n",
    "\n",
    "Converted categorical variables to category type.\n",
    "\n",
    "Handled Outliers:\n",
    "Used the IQR method to filter extreme values.\n",
    "\n",
    "Encoded Categorical Features:\n",
    "\n",
    "Label Encoding for binary categories.\n",
    "\n",
    "One-Hot Encoding for multi-class categories.\n",
    "\n",
    "Standardized Numerical Features:\n",
    "\n",
    "Used StandardScaler for normalization.\n",
    "\n",
    "Saved Cleaned Data: Stored as cleaned_dataset.csv.\n",
    "\n",
    "\n",
    "\n",
    " The dataset had missing values, mostly in categorical columns, which were handled.\n",
    "\n",
    " Duplicate entries were removed to ensure data integrity.\n",
    "\n",
    " Outliers were detected and removed using the IQR method to avoid skewed analysis.\n",
    "\n",
    "  Categorical variables were properly encoded for machine learning compatibility.\n",
    "\n",
    " Standardization was applied for better model performance."
   ]
  },
  {
   "cell_type": "markdown",
   "metadata": {
    "id": "GF8Ens_Soomf"
   },
   "source": [
    "## ***4. Data Vizualization, Storytelling & Experimenting with charts : Understand the relationships between variables***"
   ]
  },
  {
   "cell_type": "markdown",
   "metadata": {
    "id": "0wOQAZs5pc--"
   },
   "source": [
    "#### Chart - 1"
   ]
  },
  {
   "cell_type": "code",
   "execution_count": null,
   "metadata": {
    "id": "7v_ESjsspbW7"
   },
   "outputs": [],
   "source": [
    "# Chart - 1 visualization code\n",
    "#Histogram – Distribution of a Numeric Variable\n",
    "\n",
    "plt.figure(figsize=(10, 5))\n",
    "\n",
    "# Check the actual column names in  DataFrame\n",
    "print(df.columns)\n",
    "\n",
    "# Replace 'Date' with the correct column name if it's different (e.g., 'Date')\n",
    "sns.lineplot(data=df, x=df.columns[0], y='Close', marker='o', color='green')  # Assuming 'Date' is the first column\n",
    "\n",
    "plt.title(\"Yes Bank Stock Closing Price Trend\")\n",
    "plt.xlabel(df.columns[0])  # Set x-axis label to the correct column name\n",
    "plt.ylabel(\"Closing Price (INR)\")\n",
    "plt.show()"
   ]
  },
  {
   "cell_type": "markdown",
   "metadata": {
    "id": "K5QZ13OEpz2H"
   },
   "source": [
    "##### 1. Why did you pick the specific chart?"
   ]
  },
  {
   "cell_type": "markdown",
   "metadata": {
    "id": "XESiWehPqBRc"
   },
   "source": [
    "Answer A histogram shows the distribution of a numerical variable, detecting skewness or outliers."
   ]
  },
  {
   "cell_type": "markdown",
   "metadata": {
    "id": "lQ7QKXXCp7Bj"
   },
   "source": [
    "##### 2. What is/are the insight(s) found from the chart?"
   ]
  },
  {
   "cell_type": "markdown",
   "metadata": {
    "id": "C_j1G7yiqdRP"
   },
   "source": [
    "Answer If data is right-skewed, pricing or product improvements may be needed."
   ]
  },
  {
   "cell_type": "markdown",
   "metadata": {
    "id": "448CDAPjqfQr"
   },
   "source": [
    "##### 3. Will the gained insights help creating a positive business impact?\n",
    "Are there any insights that lead to negative growth? Justify with specific reason."
   ]
  },
  {
   "cell_type": "markdown",
   "metadata": {
    "id": "3cspy4FjqxJW"
   },
   "source": [
    "Answer Helps in demand prediction.\n",
    "\n",
    " If highly skewed, it could indicate biased data collection."
   ]
  },
  {
   "cell_type": "markdown",
   "metadata": {
    "id": "KSlN3yHqYklG"
   },
   "source": [
    "#### Chart - 2"
   ]
  },
  {
   "cell_type": "code",
   "execution_count": null,
   "metadata": {
    "id": "R4YgtaqtYklH"
   },
   "outputs": [],
   "source": [
    "# Chart - 2 visualization code\n",
    "#Bar Chart – Categorical Comparison\n",
    "plt.figure(figsize=(8, 5))\n",
    "sns.histplot(df['Close'], bins=20, kde=True, color='blue')\n",
    "plt.title(\"Distribution of Closing Prices\")\n",
    "plt.xlabel(\"Closing Price (INR)\")\n",
    "plt.ylabel(\"Frequency\")\n",
    "plt.show()"
   ]
  },
  {
   "cell_type": "markdown",
   "metadata": {
    "id": "t6dVpIINYklI"
   },
   "source": [
    "##### 1. Why did you pick the specific chart?"
   ]
  },
  {
   "cell_type": "markdown",
   "metadata": {
    "id": "5aaW0BYyYklI"
   },
   "source": [
    "Answer A bar chart is best for comparing different categories."
   ]
  },
  {
   "cell_type": "markdown",
   "metadata": {
    "id": "ijmpgYnKYklI"
   },
   "source": [
    "##### 2. What is/are the insight(s) found from the chart?"
   ]
  },
  {
   "cell_type": "markdown",
   "metadata": {
    "id": "PSx9atu2YklI"
   },
   "source": [
    "Answer Shows the highest & lowest performing categories."
   ]
  },
  {
   "cell_type": "markdown",
   "metadata": {
    "id": "-JiQyfWJYklI"
   },
   "source": [
    "##### 3. Will the gained insights help creating a positive business impact?\n",
    "Are there any insights that lead to negative growth? Justify with specific reason."
   ]
  },
  {
   "cell_type": "markdown",
   "metadata": {
    "id": "BcBbebzrYklV"
   },
   "source": [
    "Answer Focus on high-performing categories.\n",
    "\n",
    " If an essential category is underperforming, marketing strategies should be revisited."
   ]
  },
  {
   "cell_type": "markdown",
   "metadata": {
    "id": "EM7whBJCYoAo"
   },
   "source": [
    "#### Chart - 3"
   ]
  },
  {
   "cell_type": "code",
   "execution_count": null,
   "metadata": {
    "id": "t6GMdE67YoAp"
   },
   "outputs": [],
   "source": [
    "# Chart - 3 visualization code\n",
    "#Box Plot – Outlier Detection\n",
    "plt.figure(figsize=(8, 5))\n",
    "sns.boxplot(x=df['Close'], color='orange')\n",
    "plt.title(\"Box Plot of Closing Prices\")\n",
    "plt.show()"
   ]
  },
  {
   "cell_type": "markdown",
   "metadata": {
    "id": "fge-S5ZAYoAp"
   },
   "source": [
    "##### 1. Why did you pick the specific chart?"
   ]
  },
  {
   "cell_type": "markdown",
   "metadata": {
    "id": "5dBItgRVYoAp"
   },
   "source": [
    "Answer A box plot detects outliers and spread of data."
   ]
  },
  {
   "cell_type": "markdown",
   "metadata": {
    "id": "85gYPyotYoAp"
   },
   "source": [
    "##### 2. What is/are the insight(s) found from the chart?"
   ]
  },
  {
   "cell_type": "markdown",
   "metadata": {
    "id": "4jstXR6OYoAp"
   },
   "source": [
    "Answer If many outliers exist, data cleansing or business corrections may be needed."
   ]
  },
  {
   "cell_type": "markdown",
   "metadata": {
    "id": "RoGjAbkUYoAp"
   },
   "source": [
    "##### 3. Will the gained insights help creating a positive business impact?\n",
    "Are there any insights that lead to negative growth? Justify with specific reason."
   ]
  },
  {
   "cell_type": "markdown",
   "metadata": {
    "id": "zfJ8IqMcYoAp"
   },
   "source": [
    "Answer Identifies areas for cost reduction.\n",
    "\n",
    " Extreme outliers can mislead decision-making."
   ]
  },
  {
   "cell_type": "markdown",
   "metadata": {
    "id": "4Of9eVA-YrdM"
   },
   "source": [
    "#### Chart - 4"
   ]
  },
  {
   "cell_type": "code",
   "execution_count": null,
   "metadata": {
    "id": "irlUoxc8YrdO"
   },
   "outputs": [],
   "source": [
    "# Chart - 4 visualization code\n",
    "#Scatter Plot – Correlation Between Two Variables\n",
    "\n",
    "\n",
    "plt.figure(figsize=(8, 5))\n",
    "sns.scatterplot(data=df, x='Open', y='Close', color='red')\n",
    "plt.title(\"Opening Price vs Closing Price\")\n",
    "plt.xlabel(\"Opening Price (INR)\")\n",
    "plt.ylabel(\"Closing Price (INR)\")\n",
    "plt.show()\n"
   ]
  },
  {
   "cell_type": "markdown",
   "metadata": {
    "id": "iky9q4vBYrdO"
   },
   "source": [
    "##### 1. Why did you pick the specific chart?"
   ]
  },
  {
   "cell_type": "markdown",
   "metadata": {
    "id": "aJRCwT6DYrdO"
   },
   "source": [
    "Answer Detects relationships between two numeric variables."
   ]
  },
  {
   "cell_type": "markdown",
   "metadata": {
    "id": "F6T5p64dYrdO"
   },
   "source": [
    "##### 2. What is/are the insight(s) found from the chart?"
   ]
  },
  {
   "cell_type": "markdown",
   "metadata": {
    "id": "Xx8WAJvtYrdO"
   },
   "source": [
    "Answer If strong correlation, one variable predicts another."
   ]
  },
  {
   "cell_type": "markdown",
   "metadata": {
    "id": "y-Ehk30pYrdP"
   },
   "source": [
    "##### 3. Will the gained insights help creating a positive business impact?\n",
    "Are there any insights that lead to negative growth? Justify with specific reason."
   ]
  },
  {
   "cell_type": "markdown",
   "metadata": {
    "id": "jLNxxz7MYrdP"
   },
   "source": [
    "Answer Helps in predictive modeling.\n",
    "\n",
    "If no correlation, focus on better influencing factors."
   ]
  },
  {
   "cell_type": "markdown",
   "metadata": {
    "id": "bamQiAODYuh1"
   },
   "source": [
    "#### Chart - 5"
   ]
  },
  {
   "cell_type": "code",
   "execution_count": null,
   "metadata": {
    "id": "TIJwrbroYuh3"
   },
   "outputs": [],
   "source": [
    "# Chart - 5 visualization code\n",
    "#Violin Plot – Distribution & Density\n",
    "\n",
    "\n",
    "plt.figure(figsize=(8, 5))\n",
    "sns.violinplot(data=df[['Open', 'High', 'Low', 'Close']], palette=\"muted\")\n",
    "plt.title(\"Stock Price Variability\")\n",
    "plt.show()\n"
   ]
  },
  {
   "cell_type": "markdown",
   "metadata": {
    "id": "QHF8YVU7Yuh3"
   },
   "source": [
    "##### 1. Why did you pick the specific chart?"
   ]
  },
  {
   "cell_type": "markdown",
   "metadata": {
    "id": "dcxuIMRPYuh3"
   },
   "source": [
    "Answer Shows distribution & density variations."
   ]
  },
  {
   "cell_type": "markdown",
   "metadata": {
    "id": "GwzvFGzlYuh3"
   },
   "source": [
    "##### 2. What is/are the insight(s) found from the chart?"
   ]
  },
  {
   "cell_type": "markdown",
   "metadata": {
    "id": "uyqkiB8YYuh3"
   },
   "source": [
    "Answer Helps understand category spread."
   ]
  },
  {
   "cell_type": "markdown",
   "metadata": {
    "id": "qYpmQ266Yuh3"
   },
   "source": [
    "##### 3. Will the gained insights help creating a positive business impact?\n",
    "Are there any insights that lead to negative growth? Justify with specific reason."
   ]
  },
  {
   "cell_type": "markdown",
   "metadata": {
    "id": "_WtzZ_hCYuh4"
   },
   "source": [
    "Answer Identifies profitable segments.\n",
    "\n",
    " A heavily skewed category might need pricing adjustments.\n",
    "\n"
   ]
  },
  {
   "cell_type": "markdown",
   "metadata": {
    "id": "OH-pJp9IphqM"
   },
   "source": [
    "#### Chart - 6"
   ]
  },
  {
   "cell_type": "code",
   "execution_count": null,
   "metadata": {
    "id": "kuRf4wtuphqN"
   },
   "outputs": [],
   "source": [
    "# Chart - 6 visualization code\n",
    "#Pie Chart – Market Share Analysis\n",
    "\n",
    "df['Pseudo_Date'] = pd.to_datetime(df.index, origin='2010-01-01', unit='D')  # Replace '2010-01-01' with an appropriate start date for your data\n",
    "\n",
    "monthly_avg = df.groupby(df['Pseudo_Date'].dt.month)['Close'].mean()  # Group by the month of the pseudo-date\n",
    "plt.figure(figsize=(6, 6))\n",
    "# Taking the absolute values to avoid negative values in the pie chart\n",
    "monthly_avg = monthly_avg.abs()\n",
    "monthly_avg.plot.pie(autopct='%1.1f%%', cmap=\"Set3\")\n",
    "plt.title(\"Average Monthly Performance Share\")\n",
    "plt.show()"
   ]
  },
  {
   "cell_type": "markdown",
   "metadata": {
    "id": "bbFf2-_FphqN"
   },
   "source": [
    "##### 1. Why did you pick the specific chart?"
   ]
  },
  {
   "cell_type": "markdown",
   "metadata": {
    "id": "loh7H2nzphqN"
   },
   "source": [
    "Answer Shows percentage contribution of each category."
   ]
  },
  {
   "cell_type": "markdown",
   "metadata": {
    "id": "_ouA3fa0phqN"
   },
   "source": [
    "##### 2. What is/are the insight(s) found from the chart?"
   ]
  },
  {
   "cell_type": "markdown",
   "metadata": {
    "id": "VECbqPI7phqN"
   },
   "source": [
    "Answer Identifies dominant & weak segments."
   ]
  },
  {
   "cell_type": "markdown",
   "metadata": {
    "id": "Seke61FWphqN"
   },
   "source": [
    "##### 3. Will the gained insights help creating a positive business impact?\n",
    "Are there any insights that lead to negative growth? Justify with specific reason."
   ]
  },
  {
   "cell_type": "markdown",
   "metadata": {
    "id": "DW4_bGpfphqN"
   },
   "source": [
    "Answer Invest more in high-performing categories.\n",
    "\n",
    " A shrinking category signals market shifts.\n",
    "\n"
   ]
  },
  {
   "cell_type": "markdown",
   "metadata": {
    "id": "PIIx-8_IphqN"
   },
   "source": [
    "#### Chart - 7"
   ]
  },
  {
   "cell_type": "code",
   "execution_count": null,
   "metadata": {
    "id": "lqAIGUfyphqO"
   },
   "outputs": [],
   "source": [
    "# Chart - 7 visualization code\n",
    "#Pair Plot – Multi-variable Relationship\n",
    "\n",
    "sns.pairplot(df[['Open', 'High', 'Low', 'Close']])\n",
    "plt.show()"
   ]
  },
  {
   "cell_type": "markdown",
   "metadata": {
    "id": "t27r6nlMphqO"
   },
   "source": [
    "##### 1. Why did you pick the specific chart?"
   ]
  },
  {
   "cell_type": "markdown",
   "metadata": {
    "id": "iv6ro40sphqO"
   },
   "source": [
    "Answer Helps find trends & clusters across multiple variables.."
   ]
  },
  {
   "cell_type": "markdown",
   "metadata": {
    "id": "r2jJGEOYphqO"
   },
   "source": [
    "##### 2. What is/are the insight(s) found from the chart?"
   ]
  },
  {
   "cell_type": "markdown",
   "metadata": {
    "id": "Po6ZPi4hphqO"
   },
   "source": [
    "Answer Reveals unexpected correlations"
   ]
  },
  {
   "cell_type": "markdown",
   "metadata": {
    "id": "b0JNsNcRphqO"
   },
   "source": [
    "##### 3. Will the gained insights help creating a positive business impact?\n",
    "Are there any insights that lead to negative growth? Justify with specific reason."
   ]
  },
  {
   "cell_type": "markdown",
   "metadata": {
    "id": "xvSq8iUTphqO"
   },
   "source": [
    "Answer Helps in segmentation.\n",
    "\n",
    " If no pattern, feature selection needs improvement."
   ]
  },
  {
   "cell_type": "markdown",
   "metadata": {
    "id": "BZR9WyysphqO"
   },
   "source": [
    "#### Chart - 8"
   ]
  },
  {
   "cell_type": "code",
   "execution_count": null,
   "metadata": {
    "id": "TdPTWpAVphqO"
   },
   "outputs": [],
   "source": [
    "# Chart - 8 visualization code\n",
    "#KDE Plot – Density of a Variable\n",
    "\n",
    "plt.figure(figsize=(8, 5))\n",
    "sns.kdeplot(df['Close'], shade=True, color='purple')\n",
    "plt.title(\"Kernel Density Estimate of Closing Prices\")\n",
    "plt.show()"
   ]
  },
  {
   "cell_type": "markdown",
   "metadata": {
    "id": "jj7wYXLtphqO"
   },
   "source": [
    "##### 1. Why did you pick the specific chart?"
   ]
  },
  {
   "cell_type": "markdown",
   "metadata": {
    "id": "Ob8u6rCTphqO"
   },
   "source": [
    "Answer Visualizes smooth distribution."
   ]
  },
  {
   "cell_type": "markdown",
   "metadata": {
    "id": "eZrbJ2SmphqO"
   },
   "source": [
    "##### 2. What is/are the insight(s) found from the chart?"
   ]
  },
  {
   "cell_type": "markdown",
   "metadata": {
    "id": "mZtgC_hjphqO"
   },
   "source": [
    "Answer Identifies high-density areas."
   ]
  },
  {
   "cell_type": "markdown",
   "metadata": {
    "id": "rFu4xreNphqO"
   },
   "source": [
    "##### 3. Will the gained insights help creating a positive business impact?\n",
    "Are there any insights that lead to negative growth? Justify with specific reason."
   ]
  },
  {
   "cell_type": "markdown",
   "metadata": {
    "id": "ey_0qi68phqO"
   },
   "source": [
    "Answer  Helps in resource allocation.\n",
    "\n",
    "Sparse distribution means inefficiency."
   ]
  },
  {
   "cell_type": "markdown",
   "metadata": {
    "id": "YJ55k-q6phqO"
   },
   "source": [
    "#### Chart - 9"
   ]
  },
  {
   "cell_type": "code",
   "execution_count": null,
   "metadata": {
    "id": "B2aS4O1ophqO"
   },
   "outputs": [],
   "source": [
    "# Chart - 9 visualization code\n",
    "#Stacked Bar Chart – Sub-category Contribution\n",
    "\n",
    "if 'Date' in df.columns:\n",
    "    df['Date'] = pd.to_datetime(df['Date'])\n",
    "    df['Year'] = df['Date'].dt.year\n",
    "# Check if 'date_column' is present, if 'Date' isn't\n",
    "elif 'date_column' in df.columns:\n",
    "    df['date_column'] = pd.to_datetime(df['date_column'])\n",
    "    df['Year'] = df['date_column'].dt.year\n",
    "# If neither 'Date' nor 'date_column' is found, extract from index\n",
    "else:\n",
    "    # Assuming  index represents dates\n",
    "    df['Date'] = pd.to_datetime(df.index)  # Extract dates from index\n",
    "    df['Year'] = df['Date'].dt.year  # Extract year from 'Date' column\n",
    "\n",
    "\n",
    "plt.figure(figsize=(10, 5))\n",
    "sns.barplot(data=df, x='Year', y='Close', palette='pastel')\n",
    "plt.title(\"Yearly Closing Price Comparison\")\n",
    "plt.xlabel(\"Year\")\n",
    "plt.ylabel(\"Average Closing Price\")\n",
    "plt.show()"
   ]
  },
  {
   "cell_type": "markdown",
   "metadata": {
    "id": "gCFgpxoyphqP"
   },
   "source": [
    "##### 1. Why did you pick the specific chart?"
   ]
  },
  {
   "cell_type": "markdown",
   "metadata": {
    "id": "TVxDimi2phqP"
   },
   "source": [
    "Answer Shows how subcategories contribute to main categories."
   ]
  },
  {
   "cell_type": "markdown",
   "metadata": {
    "id": "OVtJsKN_phqQ"
   },
   "source": [
    "##### 2. What is/are the insight(s) found from the chart?"
   ]
  },
  {
   "cell_type": "markdown",
   "metadata": {
    "id": "ngGi97qjphqQ"
   },
   "source": [
    "Answer Helps identify best & worst subcategories."
   ]
  },
  {
   "cell_type": "markdown",
   "metadata": {
    "id": "lssrdh5qphqQ"
   },
   "source": [
    "##### 3. Will the gained insights help creating a positive business impact?\n",
    "Are there any insights that lead to negative growth? Justify with specific reason."
   ]
  },
  {
   "cell_type": "markdown",
   "metadata": {
    "id": "tBpY5ekJphqQ"
   },
   "source": [
    "Answer Invest in high-performing subcategories.\n",
    "\n",
    " Declining subcategories indicate market shifts.\n",
    "\n"
   ]
  },
  {
   "cell_type": "markdown",
   "metadata": {
    "id": "U2RJ9gkRphqQ"
   },
   "source": [
    "#### Chart - 10"
   ]
  },
  {
   "cell_type": "code",
   "execution_count": null,
   "metadata": {
    "id": "GM7a4YP4phqQ"
   },
   "outputs": [],
   "source": [
    "# Chart - 10 visualization code\n",
    "#Swarm Plot – Categorical Distribution\n",
    "\n",
    "\n",
    "plt.figure(figsize=(8, 5))\n",
    "sns.swarmplot(data=df, x='Year', y='Close')\n",
    "plt.title(\"Swarm Plot of Closing Prices by Year\")\n",
    "plt.show()"
   ]
  },
  {
   "cell_type": "markdown",
   "metadata": {
    "id": "1M8mcRywphqQ"
   },
   "source": [
    "##### 1. Why did you pick the specific chart?"
   ]
  },
  {
   "cell_type": "markdown",
   "metadata": {
    "id": "8agQvks0phqQ"
   },
   "source": [
    "Answer Shows data clustering & outliers."
   ]
  },
  {
   "cell_type": "markdown",
   "metadata": {
    "id": "tgIPom80phqQ"
   },
   "source": [
    "##### 2. What is/are the insight(s) found from the chart?"
   ]
  },
  {
   "cell_type": "markdown",
   "metadata": {
    "id": "Qp13pnNzphqQ"
   },
   "source": [
    "Answer Helps segment customer behavior."
   ]
  },
  {
   "cell_type": "markdown",
   "metadata": {
    "id": "JMzcOPDDphqR"
   },
   "source": [
    "##### 3. Will the gained insights help creating a positive business impact?\n",
    "Are there any insights that lead to negative growth? Justify with specific reason."
   ]
  },
  {
   "cell_type": "markdown",
   "metadata": {
    "id": "R4Ka1PC2phqR"
   },
   "source": [
    "Answer Tailors customer strategies.\n",
    "\n",
    "Gaps indicate lack of representation.\n",
    "\n"
   ]
  },
  {
   "cell_type": "markdown",
   "metadata": {
    "id": "x-EpHcCOp1ci"
   },
   "source": [
    "#### Chart - 11"
   ]
  },
  {
   "cell_type": "code",
   "execution_count": null,
   "metadata": {
    "id": "mAQTIvtqp1cj"
   },
   "outputs": [],
   "source": [
    "# Chart - 11 visualization code\n",
    "#Stacked Bar Chart – Sub-category Contribution\n",
    "\n",
    "\n",
    "df['Month'] = df['Date'].dt.month\n",
    "df.groupby(['Year', 'Month'])['Close'].mean().unstack().plot(kind='bar', stacked=True, figsize=(10, 6))\n",
    "plt.title(\"Stacked Bar Chart: Monthly Stock Performance\")\n",
    "plt.show()"
   ]
  },
  {
   "cell_type": "markdown",
   "metadata": {
    "id": "X_VqEhTip1ck"
   },
   "source": [
    "##### 1. Why did you pick the specific chart?"
   ]
  },
  {
   "cell_type": "markdown",
   "metadata": {
    "id": "-vsMzt_np1ck"
   },
   "source": [
    "Answer Shows how subcategories contribute to main categories."
   ]
  },
  {
   "cell_type": "markdown",
   "metadata": {
    "id": "8zGJKyg5p1ck"
   },
   "source": [
    "##### 2. What is/are the insight(s) found from the chart?"
   ]
  },
  {
   "cell_type": "markdown",
   "metadata": {
    "id": "ZYdMsrqVp1ck"
   },
   "source": [
    "Answer Helps identify best & worst subcategories."
   ]
  },
  {
   "cell_type": "markdown",
   "metadata": {
    "id": "PVzmfK_Ep1ck"
   },
   "source": [
    "##### 3. Will the gained insights help creating a positive business impact?\n",
    "Are there any insights that lead to negative growth? Justify with specific reason."
   ]
  },
  {
   "cell_type": "markdown",
   "metadata": {
    "id": "druuKYZpp1ck"
   },
   "source": [
    "Answer  Invest in high-performing subcategories.\n",
    "\n",
    "Declining subcategories indicate market shifts."
   ]
  },
  {
   "cell_type": "markdown",
   "metadata": {
    "id": "n3dbpmDWp1ck"
   },
   "source": [
    "#### Chart - 12"
   ]
  },
  {
   "cell_type": "code",
   "execution_count": null,
   "metadata": {
    "id": "bwevp1tKp1ck"
   },
   "outputs": [],
   "source": [
    "# Chart - 12 visualization code\n",
    "#Bubble Chart – Multi-Dimensional Insights\n",
    "\n",
    "\n",
    "plt.figure(figsize=(10, 6))\n",
    "plt.scatter(df['Date'], df['Close'], s=(df['High'] - df['Low']) * 50, alpha=0.5, color='blue')\n",
    "plt.title(\"Bubble Chart of Stock Trading Range Over Time\")\n",
    "plt.xlabel(\"Date\")\n",
    "plt.ylabel(\"Closing Price (INR)\")\n",
    "plt.show()"
   ]
  },
  {
   "cell_type": "markdown",
   "metadata": {
    "id": "ylSl6qgtp1ck"
   },
   "source": [
    "##### 1. Why did you pick the specific chart?"
   ]
  },
  {
   "cell_type": "markdown",
   "metadata": {
    "id": "m2xqNkiQp1ck"
   },
   "source": [
    "Answer Captures three dimensions (X, Y, size)."
   ]
  },
  {
   "cell_type": "markdown",
   "metadata": {
    "id": "ZWILFDl5p1ck"
   },
   "source": [
    "##### 2. What is/are the insight(s) found from the chart?"
   ]
  },
  {
   "cell_type": "markdown",
   "metadata": {
    "id": "x-lUsV2mp1ck"
   },
   "source": [
    "Answer Highlights hidden patterns."
   ]
  },
  {
   "cell_type": "markdown",
   "metadata": {
    "id": "M7G43BXep1ck"
   },
   "source": [
    "##### 3. Will the gained insights help creating a positive business impact?\n",
    "Are there any insights that lead to negative growth? Justify with specific reason."
   ]
  },
  {
   "cell_type": "markdown",
   "metadata": {
    "id": "5wwDJXsLp1cl"
   },
   "source": [
    "Answer  Helps optimize resource allocation.\n",
    "\n",
    " Oversized bubbles indicate costly inefficiencies."
   ]
  },
  {
   "cell_type": "markdown",
   "metadata": {
    "id": "Ag9LCva-p1cl"
   },
   "source": [
    "#### Chart - 13"
   ]
  },
  {
   "cell_type": "code",
   "execution_count": null,
   "metadata": {
    "id": "EUfxeq9-p1cl"
   },
   "outputs": [],
   "source": [
    "# Chart - 13 visualization code\n",
    "#Scatter Plot – Correlation Between Two Variables\n",
    "\n",
    "plt.figure(figsize=(8, 5))\n",
    "sns.scatterplot(data=df, x='Open', y='Close', hue='Year') # Example: Assuming 'Open', 'Close', 'Year' are in your DataFrame\n",
    "plt.title(\"Scatter Plot of Numeric Variables\")\n",
    "plt.show()"
   ]
  },
  {
   "cell_type": "markdown",
   "metadata": {
    "id": "E6MkPsBcp1cl"
   },
   "source": [
    "##### 1. Why did you pick the specific chart?"
   ]
  },
  {
   "cell_type": "markdown",
   "metadata": {
    "id": "V22bRsFWp1cl"
   },
   "source": [
    "Answer  Detects relationships between two numeric variables."
   ]
  },
  {
   "cell_type": "markdown",
   "metadata": {
    "id": "2cELzS2fp1cl"
   },
   "source": [
    "##### 2. What is/are the insight(s) found from the chart?"
   ]
  },
  {
   "cell_type": "markdown",
   "metadata": {
    "id": "ozQPc2_Ip1cl"
   },
   "source": [
    "Answer If strong correlation, one variable predicts another."
   ]
  },
  {
   "cell_type": "markdown",
   "metadata": {
    "id": "3MPXvC8up1cl"
   },
   "source": [
    "##### 3. Will the gained insights help creating a positive business impact?\n",
    "Are there any insights that lead to negative growth? Justify with specific reason."
   ]
  },
  {
   "cell_type": "markdown",
   "metadata": {
    "id": "GL8l1tdLp1cl"
   },
   "source": [
    "Answer Helps in predictive modeling.\n",
    "\n",
    " If no correlation, focus on better influencing factors."
   ]
  },
  {
   "cell_type": "markdown",
   "metadata": {
    "id": "NC_X3p0fY2L0"
   },
   "source": [
    "#### Chart - 14 - Correlation Heatmap"
   ]
  },
  {
   "cell_type": "code",
   "execution_count": null,
   "metadata": {
    "id": "xyC9zolEZNRQ"
   },
   "outputs": [],
   "source": [
    "# Correlation Heatmap visualization code\n",
    "\n",
    "# Convert Date column to datetime format\n",
    "df['Date'] = pd.to_datetime(df['Date'], format='%b-%y', errors='coerce')\n",
    "\n",
    "# Compute correlation matrix\n",
    "correlation_matrix = df[['Open', 'High', 'Low', 'Close']].corr()\n",
    "\n",
    "# Ploting heatmap\n",
    "plt.figure(figsize=(8, 5))\n",
    "sns.heatmap(correlation_matrix, annot=True, cmap='coolwarm', linewidths=0.5)\n",
    "\n",
    "# Title\n",
    "plt.title(\"Correlation Heatmap of Yes Bank Stock Prices\")\n",
    "plt.show()"
   ]
  },
  {
   "cell_type": "markdown",
   "metadata": {
    "id": "UV0SzAkaZNRQ"
   },
   "source": [
    "##### 1. Why did you pick the specific chart?"
   ]
  },
  {
   "cell_type": "markdown",
   "metadata": {
    "id": "DVPuT8LYZNRQ"
   },
   "source": [
    "Answer  A correlation heatmap is ideal for visualizing the relationship between multiple numerical variables in your dataset.\n",
    "\n",
    " Stock prices (Open, High, Low, Close) are interrelated – a heatmap quickly shows how strongly they move together.\n",
    "\n",
    "It highlights highly correlated variables, reducing redundant features in predictive models.\n",
    "\n",
    "Unlike a scatter plot (which compares only two variables at a time), a heatmap provides a comprehensive view of multiple relationships in one glance."
   ]
  },
  {
   "cell_type": "markdown",
   "metadata": {
    "id": "YPEH6qLeZNRQ"
   },
   "source": [
    "##### 2. What is/are the insight(s) found from the chart?"
   ]
  },
  {
   "cell_type": "markdown",
   "metadata": {
    "id": "bfSqtnDqZNRR"
   },
   "source": [
    "Answer 1. Strong Positive Correlation Between Stock Prices\n",
    "Open, High, Low, and Close prices are likely to have a strong positive correlation (close to 1).\n",
    "\n",
    "This means that if the Open price increases, the Close price tends to increase as well.\n",
    "This is expected in stock market data, as daily prices move within a range and follow trends.\n",
    "\n",
    "🔹 2. High Correlation Between High and Low Prices\n",
    "\n",
    "If High and Low prices have a correlation close to 1, it indicates that daily price variations remain within a predictable range.\n",
    "This suggests the stock is relatively stable within a given period.\n",
    "\n",
    "🔹 3. Lower Correlation Suggests Market Volatility\n",
    "\n",
    "If Close price has a low correlation with Open price, it may indicate high volatility, meaning external factors (e.g., economic policies, market sentiment) play a bigger role in stock price fluctuations.\n",
    "\n"
   ]
  },
  {
   "cell_type": "markdown",
   "metadata": {
    "id": "q29F0dvdveiT"
   },
   "source": [
    "#### Chart - 15 - Pair Plot"
   ]
  },
  {
   "cell_type": "code",
   "execution_count": null,
   "metadata": {
    "id": "o58-TEIhveiU"
   },
   "outputs": [],
   "source": [
    "# Pair Plot visualization code\n",
    "\n",
    "\n",
    "df['Date'] = pd.to_datetime(df['Date'], format='%b-%y', errors='coerce')\n",
    "\n",
    "# Plot pairplot\n",
    "sns.pairplot(df[['Open', 'High', 'Low', 'Close']])\n",
    "plt.suptitle(\"Pair Plot of Yes Bank Stock Prices\", y=1.02)  # Adjusting title position\n",
    "plt.show()"
   ]
  },
  {
   "cell_type": "markdown",
   "metadata": {
    "id": "EXh0U9oCveiU"
   },
   "source": [
    "##### 1. Why did you pick the specific chart?"
   ]
  },
  {
   "cell_type": "markdown",
   "metadata": {
    "id": "eMmPjTByveiU"
   },
   "source": [
    "Answer A pair plot is ideal for exploring the relationship between multiple numerical variables in your dataset at once.\n",
    "\n",
    " Stock prices (Open, High, Low, Close) are interconnected, and this chart visually captures their interactions.\n",
    "\n",
    "Unlike a correlation heatmap (which only shows numeric correlations), a pair plot shows actual scatter distributions between variables.\n",
    "\n",
    " It helps detect trends, clusters, and outliers in stock price movements.\n",
    "\n",
    " The diagonal histograms highlight how each variable is distributed, which is crucial for understanding stock price volatility.\n",
    "\n"
   ]
  },
  {
   "cell_type": "markdown",
   "metadata": {
    "id": "22aHeOlLveiV"
   },
   "source": [
    "##### 2. What is/are the insight(s) found from the chart?"
   ]
  },
  {
   "cell_type": "markdown",
   "metadata": {
    "id": "uPQ8RGwHveiV"
   },
   "source": [
    "Answer  Strong Correlation Between Stock Prices\n",
    "\n",
    "If the scatter plots between Open, High, Low, and Close prices form linear trends, it indicates a strong correlation between these values.\n",
    "This means if the Open price is high, the Close price is likely high too—suggesting stock prices move in a predictable range.\n",
    "\n",
    "\n",
    " Stock Price Volatility\n",
    "\n",
    "If points are scattered randomly in the plots, it suggests higher volatility and less predictability in stock prices.\n",
    "This can mean that external market factors (e.g., economic policies, investor sentiment) heavily impact the stock.\n",
    "\n",
    "\n",
    "Outliers Indicate Price Anomalies\n",
    "\n",
    "If certain points lie far away from the main trend, they may represent sudden price jumps or crashes.\n",
    "These outliers could be due to news events, company performance reports, or market crashes affecting Yes Bank’s stock.\n",
    "\n",
    " Distribution of Stock Prices (Diagonal Histograms)\n",
    "\n",
    "If histograms show a normal (bell-shaped) distribution, stock prices tend to stay within a predictable range.\n",
    "A skewed distribution may indicate a sudden shift in stock value, possibly due to economic or business changes."
   ]
  },
  {
   "cell_type": "markdown",
   "metadata": {
    "id": "JcMwzZxoAimU"
   },
   "source": [
    "## **5. Solution to Business Objective**"
   ]
  },
  {
   "cell_type": "markdown",
   "metadata": {
    "id": "8G2x9gOozGDZ"
   },
   "source": [
    "#### What do you suggest the client to achieve Business Objective ?\n",
    "Explain Briefly."
   ]
  },
  {
   "cell_type": "markdown",
   "metadata": {
    "id": "pASKb0qOza21"
   },
   "source": [
    "Answer\n",
    "\n",
    "\n",
    " Use Predictive Analytics for Stock Price Forecasting\n",
    "Insight: High correlation between Open, High, Low, and Close prices suggests stock price movements follow trends.\n",
    "\n",
    "Solution: Implement machine learning models (e.g., ARIMA, LSTM, or Random Forest Regressor) to predict future stock prices.\n",
    "\n",
    "Impact: Helps traders make informed decisions and mitigate risks.\n",
    "\n",
    "2. Monitor Stock Volatility & Risk Management\n",
    "Insight: Sudden deviations or outliers indicate volatility.\n",
    "\n",
    "Solution: Apply volatility analysis (Bollinger Bands, Moving Average) to track stock fluctuations and implement stop-loss strategies.\n",
    "\n",
    "Impact: Reduces investment risks and increases profitability.\n",
    "\n",
    "3. Identify Market Anomalies & External Influences\n",
    "Insight: Low correlation with historical trends indicates influence of external factors.\n",
    "\n",
    "Solution: Use sentiment analysis on news articles and social media to detect external events affecting stock prices and monitor government policies and trends.\n",
    "\n",
    "Impact: Helps investors prepare for sudden stock fluctuations and avoid potential losses.\n",
    "\n",
    "4. Optimize Investment Strategies\n",
    "Insight: Stock price distribution shows stability or high fluctuation.\n",
    "\n",
    "Solution: For low volatility stocks, prefer long-term investing; for high volatility stocks, use short-term trading strategies.\n",
    "\n",
    "Impact: Helps investors maximize returns based on market conditions.\n",
    "\n",
    "5. Build a Stock Trading Dashboard\n",
    "Solution: Develop an interactive dashboard using Python (Dash, Streamlit) or Power BI to display real-time stock trends, track historical patterns, provide predictive insights, and alert users for buy/sell recommendations.\n",
    "\n",
    "Impact: Improves decision-making efficiency for traders and investors.\n",
    "\n"
   ]
  },
  {
   "cell_type": "markdown",
   "metadata": {
    "id": "gCX9965dhzqZ"
   },
   "source": [
    "# **Conclusion**"
   ]
  },
  {
   "cell_type": "markdown",
   "metadata": {
    "id": "Fjb1IsQkh3yE"
   },
   "source": [
    "This project has provided a comprehensive analysis of Yes Bank's stock prices from July 2005 to November 2020, utilizing exploratory data analysis and regression techniques. By examining the data, several key insights were uncovered, such as stock price volatility, outliers indicating anomalies, and the distribution of stock prices. These insights offer valuable information about the factors that influence stock prices and help investors make informed decisions.\n",
    "\n",
    "The analysis revealed the importance of monitoring stock volatility and implementing risk management strategies to mitigate investment risks. Additionally, predictive analytics can be employed to forecast future stock prices, allowing traders to anticipate market movements and make strategic investment decisions. Identifying external influences, such as news events and government policies, further enhances the ability to navigate market fluctuations and optimize investment strategies.\n",
    "\n",
    "Overall, this project highlights the significance of data-driven decision-making in the stock market. By leveraging advanced analytical techniques and tools, investors can gain a deeper understanding of stock price trends and patterns, leading to more informed and effective investment strategies. The development of an interactive stock trading dashboard also provides a valuable resource for real-time analysis and decision support, further enhancing the ability to maximize returns and minimize risks in the dynamic stock market environment."
   ]
  },
  {
   "cell_type": "markdown",
   "metadata": {
    "id": "gIfDvo9L0UH2"
   },
   "source": [
    "### ***Hurrah! You have successfully completed your EDA Capstone Project !!!***"
   ]
  },
  {
   "cell_type": "code",
   "execution_count": null,
   "metadata": {
    "id": "dYX880etpL0x"
   },
   "outputs": [],
   "source": []
  },
  {
   "cell_type": "code",
   "execution_count": null,
   "metadata": {
    "id": "-6Vl263upPVI"
   },
   "outputs": [],
   "source": []
  }
 ],
 "metadata": {
  "colab": {
   "private_outputs": true,
   "provenance": []
  },
  "kernelspec": {
   "display_name": "Python 3",
   "name": "python3"
  },
  "language_info": {
   "name": "python"
  }
 },
 "nbformat": 4,
 "nbformat_minor": 0
}
